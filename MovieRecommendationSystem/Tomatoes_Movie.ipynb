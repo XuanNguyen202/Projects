{
  "cells": [
    {
      "cell_type": "code",
      "execution_count": null,
      "metadata": {
        "id": "cG80uXbjgKjy"
      },
      "outputs": [],
      "source": [
        "# Import Library\n",
        "import pandas as pd\n",
        "import numpy as np\n",
        "from sklearn.feature_extraction.text import TfidfVectorizer\n",
        "from sklearn.feature_extraction.text import CountVectorizer\n",
        "from sklearn.metrics.pairwise import cosine_similarity\n",
        "from sklearn.metrics.pairwise import linear_kernel\n",
        "import warnings\n",
        "warnings.filterwarnings(\"ignore\")"
      ]
    },
    {
      "cell_type": "code",
      "execution_count": null,
      "metadata": {
        "id": "CnwFp6WRgKj9"
      },
      "outputs": [],
      "source": [
        "movie = pd.read_csv('movie_preprocessing5.csv',encoding='utf-8')\n",
        "# movie=movie1[:5000]"
      ]
    },
    {
      "cell_type": "code",
      "source": [
        "movie.shape"
      ],
      "metadata": {
        "colab": {
          "base_uri": "https://localhost:8080/"
        },
        "id": "Liy39bcBAHQy",
        "outputId": "e2bdac88-33c5-4773-eeea-77f4cc253fd1"
      },
      "execution_count": null,
      "outputs": [
        {
          "output_type": "execute_result",
          "data": {
            "text/plain": [
              "(32462, 10)"
            ]
          },
          "metadata": {},
          "execution_count": 6
        }
      ]
    },
    {
      "cell_type": "code",
      "source": [
        "movie.columns"
      ],
      "metadata": {
        "colab": {
          "base_uri": "https://localhost:8080/"
        },
        "id": "WeYTv6LTAI7b",
        "outputId": "37d9a349-c953-4bae-8a41-f24619196dab"
      },
      "execution_count": null,
      "outputs": [
        {
          "output_type": "execute_result",
          "data": {
            "text/plain": [
              "Index(['Title', 'Score', 'Review count', 'Genre', 'Original Language',\n",
              "       'Runtime', 'Rating', 'Director', 'Cast', 'Synopsis'],\n",
              "      dtype='object')"
            ]
          },
          "metadata": {},
          "execution_count": 7
        }
      ]
    },
    {
      "cell_type": "markdown",
      "metadata": {
        "id": "yjpOIyp_gKkA"
      },
      "source": []
    },
    {
      "cell_type": "markdown",
      "source": [
        "## Weight Rating\n"
      ],
      "metadata": {
        "id": "YPu4XS2GzmuA"
      }
    },
    {
      "cell_type": "markdown",
      "source": [
        "### ![image.png](data:image/png;base64,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)"
      ],
      "metadata": {
        "id": "1NL9p8jh3RS8"
      }
    },
    {
      "cell_type": "markdown",
      "source": [
        "- W: weight rating\n",
        "- R: average score for the movie\n",
        "- v: number of review_count for the movie\n",
        "- m: minimum review_count required to be listed\n",
        "- C: the mean score across the whole dataset"
      ],
      "metadata": {
        "id": "_UCOOZk20bQT"
      }
    },
    {
      "cell_type": "code",
      "execution_count": null,
      "metadata": {
        "id": "l6Eq7b1wgKkE"
      },
      "outputs": [],
      "source": [
        "C = movie['Score'].mean()\n",
        "m =  movie['Review count'].quantile(0.9)\n",
        "# movie_list = movie.copy().loc[movie['Review count']>=m]"
      ]
    },
    {
      "cell_type": "code",
      "execution_count": null,
      "metadata": {
        "id": "FC2b4ymqgKkH"
      },
      "outputs": [],
      "source": [
        "# Defining a function\n",
        "def weighted_rating(x,m=m,C=C):\n",
        "    v=x['Review count']\n",
        "    R=x['Score']\n",
        "    return ((R*v+C*m)/(v+m))"
      ]
    },
    {
      "cell_type": "code",
      "execution_count": null,
      "metadata": {
        "id": "ZV4HGMfLgKkJ"
      },
      "outputs": [],
      "source": [
        "# movie_list['WR_score']=movie_list.apply(weighted_rating,axis=1)\n",
        "# movie_list.head()\n",
        "\n",
        "# Sort the movies based on their WR_score\n",
        "# movie_list = movie_list.sort_values('WR_score',ascending=False)\n",
        "# movie_list.head(10)"
      ]
    },
    {
      "cell_type": "markdown",
      "source": [
        "## Cosine Similarity"
      ],
      "metadata": {
        "id": "_3VFNm0gz0UQ"
      }
    },
    {
      "cell_type": "code",
      "execution_count": null,
      "metadata": {
        "id": "o4QJzkqngKkO"
      },
      "outputs": [],
      "source": [
        "movie['General'] = movie['Genre'] + ' '  + movie['Original Language']+ ' ' + movie['Rating']+' '+ movie['Director'] + ' ' + movie['Cast']+' ' + movie['Synopsis']"
      ]
    },
    {
      "cell_type": "code",
      "source": [
        "for i in movie['General'][:10]:\n",
        "  print(i)"
      ],
      "metadata": {
        "colab": {
          "base_uri": "https://localhost:8080/"
        },
        "id": "rIcxls7hvtNR",
        "outputId": "f26cd20d-3229-461f-eeae-5b7b5a532fd5"
      },
      "execution_count": null,
      "outputs": [
        {
          "output_type": "stream",
          "name": "stdout",
          "text": [
            "Drama Hindi PG-13 R. Balki Amitabh Bachchan, Abhishek Bachchan, Vidya Balan, Paresh Rawal, R. Balki, R. Balki, Sunil Manchanda A politician's 13-year-old son has a rare disorder that makes him appear to be a grown man.\n",
            "Drama, Comedy English PG-13 Niels Mueller David Sullivan, Bill Heck, Kristen Johnston, Tanya Fischer, Cooper J. Friedman, Braden Andersen, Andi Matusiak, Mark Borchardt, Kendall Dakof, Leah Joy Gayle, Braden Anderson, Niels Mueller, Jason Naczek, Scott K. Foley, Hongtao Liu, Niels Mueller, Josh Rosenberg, Alexander Payne, Jinhua Yang, Nathaniel Goodman, Tracy Adams, Nicholas Jacobson-Larson, Kelly Fallon, Ania Bista, Kate M. Blomquist, Nicole Abellera After losing a custody battle, perpetual teenager Wayne Stobierski steals his son away for one last father-son weekend to the city of their dreams -- Milwaukee, Wisconsin. What's supposed to be a light-hearted adventure, transforms into a journey of profound redemption.\n",
            "Comedy, Adventure Swedish R Felix Herngren Robert Gustafsson, Iwar Wiklander, David Wiberg, Mia Skäringer Lázár, Jens Hultén, Bianca Cruzeiro, Alan Ford, Sven Lönn, David Shackleton, Georg Nikoloff, Simon Säppenen, Manuel Dubra, Johan Rheborg, Donald Högberg, Cory Peterson, Kerry Shale, Philip Rosch, Keith Chanter, Patrik Karlson, Felix Herngren, Felix Herngren, Hans Ingemansson, Maria Dahlin, Malte Forssell, Felix Herngren, Henrik Jansson-Schweizer, Anna Knochenhauer, Hans Lönnerheden, Eiffel Mattsson, Patrick Nebout, Sigurjon Sighvatsson, Göran Hallberg, Henrik Källberg Allan Karlsson, a 100-year-old explosives expert, escapes from a retirement home.\n",
            "Drama, Mystery & thriller, Action English PG Don Siegel Clint Eastwood, Patrick McGoohan, Jack Thibeau, Roberts Blossom, Fred Ward, Paul Benjamin, Larry Hankin, Bruce M. Fischer, Frank Ronzio, Fred Stuthman, David Cryer, Madison Arnold, Blair Burrows, Bob Balhatchet, Matthew Locricchio, Don Michaelian, Ray K. Goman, Jason Ronard, Don Siegel, Don Siegel, Richard Tuggle Frank Morris (Clint Eastwood), a hardened con with a history of prison breaks, is sent to serve the rest of his life sentence at Alcatraz -- America's most infamously brutal and inescapable maximum security prison. Morris quickly realizes the prison's dehumanizing effects and clashes with its cruel warden (Patrick McGoohan). Fed up with life at Alcatraz, Morris and two convict brothers (Fred Ward, Jack Thibeau) meticulously plan the unthinkable: an escape from the island.\n",
            "Drama, Adventure, Romance English PG-13 Baltasar Kormákur Shailene Woodley, Sam Claflin, Jeffrey Thomas, Elizabeth Hawthorne, Grace Palmer, Tami Ashcraft, Marisiale Tunoka, Kael Damlamian, Neil Andrea, Apakuki Nalawa, Tim Solomon, Baltasar Kormákur, Aaron Kandell, Jordan Kandell, David Branson Smith, Baltasar Kormákur, Aaron Kandell, Jordan Kandell, Shailene Woodley, Ralph Winter, Magnús Viðar Sigurðsson, Andrea Scarso, Stephen Fuss, Tom Rosenberg, Gary Lucchesi, Eric Reid, Zhongjun Wang, Zhonglei Wang, Felice Bee, Robert Simonds, Adam Fogelson Tami Oldham and Richard Sharp couldn't anticipate that they would be sailing directly into one of the most catastrophic hurricanes in recorded history. In the aftermath of the storm, Tami awakens to find Richard badly injured and their boat in ruins. With no hope of rescue, Tami must now find the strength and determination to save herself and the only man she has ever loved.\n",
            "Drama, Crime English PG-13 Robert Wise Lawrence Tierney, Claire Trevor, Walter Slezak, Phillip Terry, Audrey Long, Elisha Cook Jr., Isabel Jewell, Esther Howard, Kathryn Card, Tony Barrett, Grandon Rhodes, Sam Lufkin, Sayre Dearing, Sammy Shack, Joe Dixon, Ruth Brennan, Tommy Noonan, Al Murphy, Phil Warren, Ben Frommer, Robert Wise, Herman Schlom, Sid Rogell, Eve Greene, Richard Macaulay Drifter Sam Wilde (Lawrence Tierney) murders a Reno, Nev., boardinghouse owner and her boyfriend in a fit of jealousy. Tenant Helen Brent (Claire Trevor) discovers the bodies, but instead of reporting the crime, she leaves for San Francisco as planned to return to her wealthy fiancé. On the same train, Sam flirts with Helen, then tracks her to her half-sister's house, where he continues to pursue her. Although Helen suspects Sam is a murderer, she inexplicably protects him from an investigator.\n",
            "Drama, Comedy English PG Michael Lehmann Billy Crystal, Kathleen Quinlan, Gheorghe Muresan, Joanna Pacula, Zane Carney, Rider Strong, Steven Seagal, Harold Gould, Doris Roberts, Philip Sterling, Heather Thomas, Michael Lehmann, Billy Crystal, David Seltzer, David Seltzer, Lynne Boyarsky, Billy Crystal, Peter Schindler, Marc Shaiman, Michael Coulter, Pam Dixon, Steve Semel, Jackson De Govia, Tom Reta, Sonja Klaus, Kathe Klopp, Rita Ryack, Peter Schindler, Tomás Baloun, Steve Rose, Carl S. Griffin Billy Crystal stars as Sammy, an agitated agent lost in the forest of the modern world, who happens upon a gentle giant with a tall talent for friendship named Max (Gheorghe Muresan). And while Max's life as a giant is no fairy tale, his heartwarming, hilarious adventures with Sammy prove that wishes really can come true.\n",
            "Documentary Korean R Daniel Gordon Daniel Gordon, Nick Bennet, Peter Haddon The Mass Games, a two-month-long gymnastics festival stressing group dynamics as much as individual skill, holds a vital place in the hearts of North Koreans and is an annual tradition. This film focuses on young performers, typically chosen at an early age for a lifetime career as gymnasts. In this case, the main subjects are two girls who have eight months to train for the 2003 Mass Games. In addition to the gymnasts, the filmmakers interview the girls' families for their perspective.\n",
            "Drama, Comedy, Romance English PG-13 Kirk Jones Cameron Diaz, Jennifer Lopez, Elizabeth Banks, Chace Crawford, Brooklyn Decker, Anna Kendrick, Matthew Morrison, Dennis Quaid, Chris Rock, Rodrigo Santoro, Ben Falcone, Joe Manganiello, Thomas Lennon, Kirk Jones, Shauna Cross, Heather Hach, Mike Medavoy, Arnold Messer, David Thwaites, Heidi Murkoff, Erik Murkoff, Alan Nevins, Mark Bakshi, Allison Shearmur, Jim Miller, Xavier Grobet, Andrew Laws, Michael Berenbaum, Karen Patch, Deborah Aquila, Mary Tricia Wood, Mark Mothersbaugh, James F. Truesdale Challenges of impending parenthood turn the lives of five couples upside down. Two celebrities are unprepared for the surprise demands of pregnancy; hormones wreak havoc on a baby-crazy author, while her husband tries not to be outdone by his father, who's expecting twins with his young trophy wife; a photographer's husband isn't sure about his wife's adoption plans; a one-time hook-up results in a surprise pregnancy for rival food-truck owners.\n",
            "Drama Italian PG-13 Eugène Green Fabrizio Rongione, Christelle Prot, Ludovico Succio, Arianna Nastro, Hervé Compagne, Sabine Ponte, Gilles Tonnelé, Eugène Green, Eugène Green An aging architect (Fabrizio Rongione) tries to rediscover his passion by going on a research expedition to the birthplace of 17th-century master Francesco Borromini.\n"
          ]
        }
      ]
    },
    {
      "cell_type": "markdown",
      "source": [
        "### Preprocessing"
      ],
      "metadata": {
        "id": "Dtyl-l60vbzq"
      }
    },
    {
      "cell_type": "code",
      "source": [
        "# # Preprocessing Review column\n",
        "# import pandas as pd\n",
        "# from nltk.corpus import stopwords\n",
        "# # from textblob import TextBlob\n",
        "# from nltk.corpus import stopwords\n",
        "# from nltk.tokenize import word_tokenize\n",
        "# import spacy\n",
        "# nlp = spacy.load(\"en_core_web_sm\")\n",
        "# stop_words = set(stopwords.words('english'))\n",
        "# import re\n",
        "\n",
        "# def clean_review(text):\n",
        "#     text = text.lower()\n",
        "#     text = re.sub(r'[^a-zA-Z\\s]', '', text)\n",
        "#     text = text.strip()\n",
        "#     text = text.replace('\\n', ' ')\n",
        "#     text = re.sub(r'[^\\w\\s]', '', text)\n",
        "#     #tokenizing\n",
        "    \n",
        "#     # lemmatization\n",
        "#     doc = nlp(text)\n",
        "#     text = \" \".join([token.lemma_ for token in doc])\n",
        "#     return text"
      ],
      "metadata": {
        "id": "c7W-PwTbvjMa"
      },
      "execution_count": null,
      "outputs": []
    },
    {
      "cell_type": "code",
      "execution_count": null,
      "metadata": {
        "colab": {
          "base_uri": "https://localhost:8080/"
        },
        "id": "iLssfBpegKkP",
        "outputId": "fa548316-d115-4cd2-cc4d-2f83a71ff026"
      },
      "outputs": [
        {
          "output_type": "execute_result",
          "data": {
            "text/plain": [
              "(32462, 143425)"
            ]
          },
          "metadata": {},
          "execution_count": 14
        }
      ],
      "source": [
        "tfidf= TfidfVectorizer(stop_words='english')\n",
        "tfidf_matrix = tfidf.fit_transform(movie['General'])\n",
        "tfidf_matrix.shape"
      ]
    },
    {
      "cell_type": "code",
      "source": [
        "# # Import CountVectorizer and create the count matrix\n",
        "# from sklearn.feature_extraction.text import CountVectorizer\n",
        "\n",
        "# count = CountVectorizer(stop_words='english')\n",
        "# # count_matrix = count.fit_transform(movie['General'])\n",
        "# # count_matrix.shape\n",
        "# tfidf_matrix = count.fit_transform(movie['General'])\n",
        "# # tfidf_matrix.shape"
      ],
      "metadata": {
        "id": "iryZZ8T_3DVq"
      },
      "execution_count": null,
      "outputs": []
    },
    {
      "cell_type": "code",
      "execution_count": null,
      "metadata": {
        "id": "dJFvraL2gKkQ"
      },
      "outputs": [],
      "source": [
        "from sklearn.decomposition import TruncatedSVD\n",
        "from sklearn.metrics.pairwise import cosine_similarity\n",
        "\n",
        "# Reduce the dimensions of the TF-IDF matrix using SVD\n",
        "svd = TruncatedSVD(n_components=100)\n",
        "svd_matrix = svd.fit_transform(tfidf_matrix)\n",
        "# Calculate cosine similarity on the reduced matrix\n",
        "cosine_sim = cosine_similarity(svd_matrix, svd_matrix)\n"
      ]
    },
    {
      "cell_type": "code",
      "execution_count": null,
      "metadata": {
        "id": "J8pDOhQQgKkS"
      },
      "outputs": [],
      "source": [
        "# from sklearn.decomposition import PCA\n",
        "# from sklearn.metrics.pairwise import cosine_similarity\n",
        "\n",
        "# # Reduce the dimensions of the TF-IDF matrix using PCA\n",
        "# pca = PCA(n_components=100)\n",
        "# pca_matrix = pca.fit_transform(tfidf_matrix.toarray())\n",
        "\n",
        "# # Calculate cosine similarity on the reduced matrix\n",
        "# cosine_sim = cosine_similarity(pca_matrix, pca_matrix)\n"
      ]
    },
    {
      "cell_type": "markdown",
      "source": [
        "## Recommend Movies"
      ],
      "metadata": {
        "id": "02LUMGQZElQZ"
      }
    },
    {
      "cell_type": "code",
      "execution_count": null,
      "metadata": {
        "id": "0tfnzJV6gKkT"
      },
      "outputs": [],
      "source": [
        "movie = movie.reset_index()\n",
        "indices = pd.Series(movie.index, index=movie['Title'])"
      ]
    },
    {
      "cell_type": "code",
      "source": [
        "indices"
      ],
      "metadata": {
        "colab": {
          "base_uri": "https://localhost:8080/"
        },
        "id": "dVs0tWR-HhfA",
        "outputId": "d052b05e-5f7d-447f-bd73-cc48e2fadde8"
      },
      "execution_count": null,
      "outputs": [
        {
          "output_type": "execute_result",
          "data": {
            "text/plain": [
              "Title\n",
              "Paa                                                                    0\n",
              "Small Town Wisconsin                                                   1\n",
              "The 100-Year-Old Man Who Climbed Out the Window and Disappeared        2\n",
              "Escape From Alcatraz                                                   3\n",
              "Adrift                                                                 4\n",
              "                                                                   ...  \n",
              "Chromophobia                                                       32457\n",
              "American Gun                                                       32458\n",
              "Tchoupitoulas                                                      32459\n",
              "Bag It                                                             32460\n",
              "Northeast                                                          32461\n",
              "Length: 32462, dtype: int64"
            ]
          },
          "metadata": {},
          "execution_count": 19
        }
      ]
    },
    {
      "cell_type": "code",
      "execution_count": null,
      "metadata": {
        "id": "zpKtL7EEgKkU"
      },
      "outputs": [],
      "source": [
        "def get_recommendations(title, consine_sim=cosine_sim):\n",
        "    #index of the movie that matches the title\n",
        "    idx = indices[title]\n",
        "\n",
        "    #pairwise similarity scores of all movies with that movie\n",
        "    sim_scores = list(enumerate(cosine_sim[idx]))\n",
        "\n",
        "    #Sorting the movies based on the similarity scores\n",
        "    sim_scores = sorted(sim_scores,key = lambda x: x[1],reverse=True)\n",
        "\n",
        "    #Scores of 10 most similar movies\n",
        "    sim_scores = sim_scores[1:30]\n",
        "\n",
        "    #Get the movie index\n",
        "    movie_indicates = [i[0] for i in sim_scores]\n",
        "\n",
        "    #Combine Cosine similarity and weight score\n",
        "    movie_pred = movie.iloc[movie_indicates][['Title', 'Genre','Score','Review count','Original Language']]\n",
        "    C = movie['Review count'].mean()\n",
        "    m = movie['Review count'].quantile(0.40)\n",
        "    t = movie['Score'].quantile(0.5)\n",
        "    qualified = movie_pred[(movie_pred['Review count'] >= m) & (movie_pred['Score'] >= t)]\n",
        "    qualified['WR_score'] = qualified.apply(weighted_rating, axis=1)\n",
        "    qualified = qualified.sort_values('WR_score', ascending=False).head(15)\n",
        "    return qualified\n",
        "    "
      ]
    },
    {
      "cell_type": "code",
      "execution_count": null,
      "metadata": {
        "colab": {
          "base_uri": "https://localhost:8080/",
          "height": 237
        },
        "id": "pH6awm4RgKkV",
        "outputId": "66af9d24-4492-43b3-9fe4-ce34f1c6b414"
      },
      "outputs": [
        {
          "output_type": "execute_result",
          "data": {
            "text/plain": [
              "                                                Title  \\\n",
              "10639                                    Cold in July   \n",
              "29180       Aileen: Life and Death of a Serial Killer   \n",
              "24459  Aileen Wuornos: The Selling of a Serial Killer   \n",
              "12549                       Tales of the Grim Sleeper   \n",
              "21238                                     Cannery Row   \n",
              "17106                            Whitney: Can I Be Me   \n",
              "\n",
              "                           Genre  Score  Review count  \\\n",
              "10639  Drama, Mystery & thriller   75.5         10117   \n",
              "29180                Documentary   79.0          5061   \n",
              "24459                Documentary   83.0          1008   \n",
              "12549                Documentary   88.5           539   \n",
              "21238                      Drama   73.0           508   \n",
              "17106         Documentary, Music   74.5           327   \n",
              "\n",
              "              Original Language   WR_score  \n",
              "10639                   English  67.607487  \n",
              "29180  English (United Kingdom)  66.874674  \n",
              "24459                   English  65.154747  \n",
              "12549                   English  64.944929  \n",
              "21238                   English  64.610512  \n",
              "17106                   English  64.570274  "
            ],
            "text/html": [
              "\n",
              "  <div id=\"df-906fe675-64bb-4ea0-97a0-60e8cd8a5b6f\">\n",
              "    <div class=\"colab-df-container\">\n",
              "      <div>\n",
              "<style scoped>\n",
              "    .dataframe tbody tr th:only-of-type {\n",
              "        vertical-align: middle;\n",
              "    }\n",
              "\n",
              "    .dataframe tbody tr th {\n",
              "        vertical-align: top;\n",
              "    }\n",
              "\n",
              "    .dataframe thead th {\n",
              "        text-align: right;\n",
              "    }\n",
              "</style>\n",
              "<table border=\"1\" class=\"dataframe\">\n",
              "  <thead>\n",
              "    <tr style=\"text-align: right;\">\n",
              "      <th></th>\n",
              "      <th>Title</th>\n",
              "      <th>Genre</th>\n",
              "      <th>Score</th>\n",
              "      <th>Review count</th>\n",
              "      <th>Original Language</th>\n",
              "      <th>WR_score</th>\n",
              "    </tr>\n",
              "  </thead>\n",
              "  <tbody>\n",
              "    <tr>\n",
              "      <th>10639</th>\n",
              "      <td>Cold in July</td>\n",
              "      <td>Drama, Mystery &amp; thriller</td>\n",
              "      <td>75.5</td>\n",
              "      <td>10117</td>\n",
              "      <td>English</td>\n",
              "      <td>67.607487</td>\n",
              "    </tr>\n",
              "    <tr>\n",
              "      <th>29180</th>\n",
              "      <td>Aileen: Life and Death of a Serial Killer</td>\n",
              "      <td>Documentary</td>\n",
              "      <td>79.0</td>\n",
              "      <td>5061</td>\n",
              "      <td>English (United Kingdom)</td>\n",
              "      <td>66.874674</td>\n",
              "    </tr>\n",
              "    <tr>\n",
              "      <th>24459</th>\n",
              "      <td>Aileen Wuornos: The Selling of a Serial Killer</td>\n",
              "      <td>Documentary</td>\n",
              "      <td>83.0</td>\n",
              "      <td>1008</td>\n",
              "      <td>English</td>\n",
              "      <td>65.154747</td>\n",
              "    </tr>\n",
              "    <tr>\n",
              "      <th>12549</th>\n",
              "      <td>Tales of the Grim Sleeper</td>\n",
              "      <td>Documentary</td>\n",
              "      <td>88.5</td>\n",
              "      <td>539</td>\n",
              "      <td>English</td>\n",
              "      <td>64.944929</td>\n",
              "    </tr>\n",
              "    <tr>\n",
              "      <th>21238</th>\n",
              "      <td>Cannery Row</td>\n",
              "      <td>Drama</td>\n",
              "      <td>73.0</td>\n",
              "      <td>508</td>\n",
              "      <td>English</td>\n",
              "      <td>64.610512</td>\n",
              "    </tr>\n",
              "    <tr>\n",
              "      <th>17106</th>\n",
              "      <td>Whitney: Can I Be Me</td>\n",
              "      <td>Documentary, Music</td>\n",
              "      <td>74.5</td>\n",
              "      <td>327</td>\n",
              "      <td>English</td>\n",
              "      <td>64.570274</td>\n",
              "    </tr>\n",
              "  </tbody>\n",
              "</table>\n",
              "</div>\n",
              "      <button class=\"colab-df-convert\" onclick=\"convertToInteractive('df-906fe675-64bb-4ea0-97a0-60e8cd8a5b6f')\"\n",
              "              title=\"Convert this dataframe to an interactive table.\"\n",
              "              style=\"display:none;\">\n",
              "        \n",
              "  <svg xmlns=\"http://www.w3.org/2000/svg\" height=\"24px\"viewBox=\"0 0 24 24\"\n",
              "       width=\"24px\">\n",
              "    <path d=\"M0 0h24v24H0V0z\" fill=\"none\"/>\n",
              "    <path d=\"M18.56 5.44l.94 2.06.94-2.06 2.06-.94-2.06-.94-.94-2.06-.94 2.06-2.06.94zm-11 1L8.5 8.5l.94-2.06 2.06-.94-2.06-.94L8.5 2.5l-.94 2.06-2.06.94zm10 10l.94 2.06.94-2.06 2.06-.94-2.06-.94-.94-2.06-.94 2.06-2.06.94z\"/><path d=\"M17.41 7.96l-1.37-1.37c-.4-.4-.92-.59-1.43-.59-.52 0-1.04.2-1.43.59L10.3 9.45l-7.72 7.72c-.78.78-.78 2.05 0 2.83L4 21.41c.39.39.9.59 1.41.59.51 0 1.02-.2 1.41-.59l7.78-7.78 2.81-2.81c.8-.78.8-2.07 0-2.86zM5.41 20L4 18.59l7.72-7.72 1.47 1.35L5.41 20z\"/>\n",
              "  </svg>\n",
              "      </button>\n",
              "      \n",
              "  <style>\n",
              "    .colab-df-container {\n",
              "      display:flex;\n",
              "      flex-wrap:wrap;\n",
              "      gap: 12px;\n",
              "    }\n",
              "\n",
              "    .colab-df-convert {\n",
              "      background-color: #E8F0FE;\n",
              "      border: none;\n",
              "      border-radius: 50%;\n",
              "      cursor: pointer;\n",
              "      display: none;\n",
              "      fill: #1967D2;\n",
              "      height: 32px;\n",
              "      padding: 0 0 0 0;\n",
              "      width: 32px;\n",
              "    }\n",
              "\n",
              "    .colab-df-convert:hover {\n",
              "      background-color: #E2EBFA;\n",
              "      box-shadow: 0px 1px 2px rgba(60, 64, 67, 0.3), 0px 1px 3px 1px rgba(60, 64, 67, 0.15);\n",
              "      fill: #174EA6;\n",
              "    }\n",
              "\n",
              "    [theme=dark] .colab-df-convert {\n",
              "      background-color: #3B4455;\n",
              "      fill: #D2E3FC;\n",
              "    }\n",
              "\n",
              "    [theme=dark] .colab-df-convert:hover {\n",
              "      background-color: #434B5C;\n",
              "      box-shadow: 0px 1px 3px 1px rgba(0, 0, 0, 0.15);\n",
              "      filter: drop-shadow(0px 1px 2px rgba(0, 0, 0, 0.3));\n",
              "      fill: #FFFFFF;\n",
              "    }\n",
              "  </style>\n",
              "\n",
              "      <script>\n",
              "        const buttonEl =\n",
              "          document.querySelector('#df-906fe675-64bb-4ea0-97a0-60e8cd8a5b6f button.colab-df-convert');\n",
              "        buttonEl.style.display =\n",
              "          google.colab.kernel.accessAllowed ? 'block' : 'none';\n",
              "\n",
              "        async function convertToInteractive(key) {\n",
              "          const element = document.querySelector('#df-906fe675-64bb-4ea0-97a0-60e8cd8a5b6f');\n",
              "          const dataTable =\n",
              "            await google.colab.kernel.invokeFunction('convertToInteractive',\n",
              "                                                     [key], {});\n",
              "          if (!dataTable) return;\n",
              "\n",
              "          const docLinkHtml = 'Like what you see? Visit the ' +\n",
              "            '<a target=\"_blank\" href=https://colab.research.google.com/notebooks/data_table.ipynb>data table notebook</a>'\n",
              "            + ' to learn more about interactive tables.';\n",
              "          element.innerHTML = '';\n",
              "          dataTable['output_type'] = 'display_data';\n",
              "          await google.colab.output.renderOutput(dataTable, element);\n",
              "          const docLink = document.createElement('div');\n",
              "          docLink.innerHTML = docLinkHtml;\n",
              "          element.appendChild(docLink);\n",
              "        }\n",
              "      </script>\n",
              "    </div>\n",
              "  </div>\n",
              "  "
            ]
          },
          "metadata": {},
          "execution_count": 22
        }
      ],
      "source": [
        "get_recommendations('Hospitality')"
      ]
    },
    {
      "cell_type": "code",
      "execution_count": null,
      "metadata": {
        "id": "jgHcVBEDgKkW"
      },
      "outputs": [],
      "source": []
    }
  ],
  "metadata": {
    "kernelspec": {
      "display_name": "Python 3",
      "language": "python",
      "name": "python3"
    },
    "language_info": {
      "codemirror_mode": {
        "name": "ipython",
        "version": 3
      },
      "file_extension": ".py",
      "mimetype": "text/x-python",
      "name": "python",
      "nbconvert_exporter": "python",
      "pygments_lexer": "ipython3",
      "version": "3.10.8"
    },
    "orig_nbformat": 4,
    "colab": {
      "provenance": []
    }
  },
  "nbformat": 4,
  "nbformat_minor": 0
}